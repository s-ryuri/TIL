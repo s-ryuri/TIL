{
  "nbformat": 4,
  "nbformat_minor": 0,
  "metadata": {
    "colab": {
      "name": "satisfaction",
      "private_outputs": true,
      "provenance": [],
      "collapsed_sections": []
    },
    "kernelspec": {
      "name": "python3",
      "display_name": "Python 3"
    },
    "language_info": {
      "name": "python"
    }
  },
  "cells": [
    {
      "cell_type": "code",
      "metadata": {
        "id": "GP6aYcBhrbGC"
      },
      "source": [
        "from google.colab import drive\n",
        "drive.mount('/content/drive')\n",
        "\n",
        "%cd drive/MyDrive/파이썬머신러닝완벽가이드"
      ],
      "execution_count": null,
      "outputs": []
    },
    {
      "cell_type": "code",
      "metadata": {
        "id": "7Zfcs8IorcRv"
      },
      "source": [
        "import numpy as np\n",
        "import pandas as pd\n",
        "import matplotlib.pyplot as plt\n",
        "import matplotlib\n",
        "\n",
        "cust_df = pd.read_csv('train.csv',encoding = 'latin-1')\n",
        "print('dataset shape : ',cust_df.shape)\n",
        "cust_df.head(3)"
      ],
      "execution_count": null,
      "outputs": []
    },
    {
      "cell_type": "code",
      "metadata": {
        "id": "opFha-K1ryO9"
      },
      "source": [
        "cust_df.info()"
      ],
      "execution_count": null,
      "outputs": []
    },
    {
      "cell_type": "code",
      "metadata": {
        "id": "_FN6r431tRo8"
      },
      "source": [
        "print(cust_df['TARGET'].value_counts())\n",
        "unsatisfied_cnt = cust_df[cust_df['TARGET'] == 1].TARGET.count()\n",
        "total_cnt = cust_df.TARGET.count()\n",
        "print(f'unsatisfied 비율은 {unsatisfied_cnt / total_cnt :.2f}')\n",
        "# 0이 만족 1이 불만족"
      ],
      "execution_count": null,
      "outputs": []
    },
    {
      "cell_type": "code",
      "metadata": {
        "id": "axgRubbHto1U"
      },
      "source": [
        "cust_df.describe()"
      ],
      "execution_count": null,
      "outputs": []
    },
    {
      "cell_type": "code",
      "metadata": {
        "id": "mEO8rDzltups"
      },
      "source": [
        "print(cust_df.var3.value_counts()[:10])"
      ],
      "execution_count": null,
      "outputs": []
    },
    {
      "cell_type": "code",
      "metadata": {
        "id": "ifFoexmGuNs7"
      },
      "source": [
        "cust_df['var3'].replace(-999999,2,inplace = True)\n",
        "cust_df.drop('ID',axis = 1,inplace = True)\n",
        "\n",
        "x_features = cust_df.iloc[:,:-1]\n",
        "y_labels = cust_df.iloc[:,-1]\n",
        "print(f'피처 데이터 shape : {x_features.shape}')"
      ],
      "execution_count": null,
      "outputs": []
    },
    {
      "cell_type": "code",
      "metadata": {
        "id": "p6qtoqN-ud-U"
      },
      "source": [
        "from sklearn.model_selection import train_test_split\n",
        "\n",
        "x_train,x_test,y_train,y_test = train_test_split(x_features,y_labels,test_size = 0.2,random_state = 0)\n",
        "\n",
        "train_cnt = y_train.count()\n",
        "test_cnt = y_test.count()\n",
        "\n",
        "print(f'학습 세트 Shape : {x_train.shape}, 테스트 세트 shape {x_test.shape}')\n",
        "\n",
        "print(' 학습 세트 레이블 값 분포 비율')\n",
        "print(y_train.value_counts()/train_cnt)\n",
        "print('\\n 테스트 세트 레이블 갓 분포 비율')\n",
        "print(y_test.value_counts()/ test_cnt)"
      ],
      "execution_count": null,
      "outputs": []
    },
    {
      "cell_type": "code",
      "metadata": {
        "id": "Oho5ThWIvRlM"
      },
      "source": [
        "from xgboost import XGBClassifier\n",
        "from sklearn.metrics import roc_auc_score\n",
        "\n",
        "xgb_clf = XGBClassifier(n_estimators = 500,random_state = 156)\n",
        "\n",
        "xgb_clf.fit(x_train,y_train,early_stopping_rounds = 100,eval_metric = 'auc',eval_set = [(x_train,y_train),(x_test,y_test)])\n",
        "\n",
        "xgb_roc_score = roc_auc_score(y_test,xgb_clf.predict_proba(x_test)[:,1],average = 'macro')\n",
        "print(f'ROC AUC {xgb_roc_score:.4f}')"
      ],
      "execution_count": null,
      "outputs": []
    },
    {
      "cell_type": "code",
      "metadata": {
        "id": "zqQoD40bwWKd"
      },
      "source": [
        "from lightgbm import LGBMClassifier\n",
        "lgbm_clf = LGBMClassifier(n_estimators = 500)\n",
        "\n",
        "evals = [(x_test,y_test)]\n",
        "lgbm_clf.fit(x_train,y_train,early_stopping_rounds = 100,eval_metric = 'auc',eval_set = evals,verbose = True)\n",
        "\n",
        "lgbm_roc_score = roc_auc_score(y_test,lgbm_clf.predict_proba(x_test)[:,1],average='macro')\n",
        "print(f'ROC AUC : {lgbm_roc_score:.4f}')"
      ],
      "execution_count": null,
      "outputs": []
    },
    {
      "cell_type": "code",
      "metadata": {
        "id": "qAAFi0ybz-J1"
      },
      "source": [
        "from sklearn.model_selection import GridSearchCV\n",
        "\n",
        "lgbm_clf = LGBMClassifier(n_estimators = 200)\n",
        "\n",
        "params = {'num_leaves' : [32,64],\n",
        "          'max_depth' : [128,160],\n",
        "          'min_child_samples' : [60,100],\n",
        "          'subsamples' : [0.8,1]}\n",
        "\n",
        "gridcv = GridSearchCV(lgbm_clf,param_grid = params ,cv = 3)\n",
        "gridcv.fit(x_train,y_train,early_stopping_rounds = 30,eval_metric = 'auc',\n",
        "           eval_set = [(x_train,y_train),(x_test,y_test)])\n",
        "\n",
        "\n"
      ],
      "execution_count": null,
      "outputs": []
    },
    {
      "cell_type": "code",
      "metadata": {
        "id": "fdDCtYx23bib"
      },
      "source": [
        "print('GridSearchCV 최적 파라미터 : ',gridcv.best_params_)\n",
        "lgbm_roc_score = roc_auc_score(y_test,gridcv.predict_proba(x_test)[:,1],average = 'macro')\n",
        "print(f'ROC AUC : {lgbm_roc_score:.4f}')"
      ],
      "execution_count": null,
      "outputs": []
    },
    {
      "cell_type": "code",
      "metadata": {
        "id": "lXQ_a9Jg6aJq"
      },
      "source": [
        "lgbm_clf = LGBMClassifier(n_estimators = 1000,num_leaves = 32,subsample=0.8,min_child_samples=100,max_depth = 128)\n",
        "evals = [(x_test,y_test)]\n",
        "\n",
        "lgbm_clf.fit(x_train,y_train,early_stopping_rounds = 100, eval_metric = 'auc',eval_set = evals, verbose = True)\n",
        "\n",
        "lgbm_roc_score = roc_auc_score(y_test,lgbm_clf.predict_proba(x_test)[:,1],average = 'macro')\n",
        "print('ROC AUC : {0:.4f}'.format(lgbm_roc_score))"
      ],
      "execution_count": null,
      "outputs": []
    },
    {
      "cell_type": "code",
      "metadata": {
        "id": "cibXDhXo7LPq"
      },
      "source": [
        ""
      ],
      "execution_count": null,
      "outputs": []
    }
  ]
}