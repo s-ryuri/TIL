{
  "nbformat": 4,
  "nbformat_minor": 0,
  "metadata": {
    "colab": {
      "name": "9월16일.ipynb",
      "private_outputs": true,
      "provenance": [],
      "machine_shape": "hm",
      "authorship_tag": "ABX9TyN5t4DfA7Hj5NYYVYpQBGJX",
      "include_colab_link": true
    },
    "kernelspec": {
      "name": "python3",
      "display_name": "Python 3"
    },
    "language_info": {
      "name": "python"
    }
  },
  "cells": [
    {
      "cell_type": "markdown",
      "metadata": {
        "id": "view-in-github",
        "colab_type": "text"
      },
      "source": [
        "<a href=\"https://colab.research.google.com/github/s-ryuri/TIL/blob/main/%EA%B3%B5%EB%AA%A8%EC%A0%84EDA.ipynb\" target=\"_parent\"><img src=\"https://colab.research.google.com/assets/colab-badge.svg\" alt=\"Open In Colab\"/></a>"
      ]
    },
    {
      "cell_type": "code",
      "metadata": {
        "id": "_BhwWlElV9f5"
      },
      "source": [
        "from google.colab import drive\n",
        "drive.mount('/content/drive')\n",
        "\n",
        "%cd drive/MyDrive/Colab/9월16일\n",
        "\n",
        "import pandas as pd\n",
        "import numpy as np\n",
        "import seaborn as sns\n",
        "import missingno as msno\n",
        "import matplotlib\n",
        "import matplotlib.pyplot as plt\n",
        "import matplotlib.font_manager as fm\n",
        "import os\n",
        "import warnings\n",
        "#ignore warnings\n",
        "\n",
        "warnings.filterwarnings('ignore')\n",
        "plt.style.use('seaborn')\n",
        "\n",
        "plt.rc('font', family='NanumBarunGothic') \n",
        "def change_matplotlib_font(font_download_url):\n",
        "    FONT_PATH = 'MY_FONT'\n",
        "    \n",
        "    font_download_cmd = f\"wget {font_download_url} -O {FONT_PATH}.zip\"\n",
        "    unzip_cmd = f\"unzip -o {FONT_PATH}.zip -d {FONT_PATH}\"\n",
        "    os.system(font_download_cmd)\n",
        "    os.system(unzip_cmd)\n",
        "    \n",
        "    font_files = fm.findSystemFonts(fontpaths=FONT_PATH)\n",
        "    for font_file in font_files:\n",
        "        fm.fontManager.addfont(font_file)\n",
        "\n",
        "    font_name = fm.FontProperties(fname=font_files[0]).get_name()\n",
        "    matplotlib.rc('font', family=font_name)\n",
        "    print(\"font family: \", plt.rcParams['font.family'])\n",
        "\n",
        "font_download_url = \"https://fonts.google.com/download?family=Noto%20Sans%20KR\"\n",
        "change_matplotlib_font(font_download_url)"
      ],
      "execution_count": null,
      "outputs": []
    },
    {
      "cell_type": "code",
      "metadata": {
        "id": "-s1dOK2AWCTJ"
      },
      "source": [
        "powerfactor = pd.read_json('347_역률평균.json')\n",
        "powerfactor\n",
        "\n",
        "# 데이터 불러옴"
      ],
      "execution_count": null,
      "outputs": []
    },
    {
      "cell_type": "code",
      "metadata": {
        "id": "hlbHGMWpXfCY"
      },
      "source": [
        "electric = pd.read_json('347_전류고조파평균.json')\n",
        "electric\n",
        "\n",
        "# 데이터 불러옴"
      ],
      "execution_count": null,
      "outputs": []
    },
    {
      "cell_type": "code",
      "metadata": {
        "id": "RbsslRtVXfPd"
      },
      "source": [
        "voltage = pd.read_json('347_전압고조파평균.json')\n",
        "voltage\n",
        "\n",
        "# 데이터 불러옴"
      ],
      "execution_count": null,
      "outputs": []
    },
    {
      "cell_type": "code",
      "metadata": {
        "id": "rGBGVsZ1lJUY"
      },
      "source": [
        "powerlist = []\n",
        "def powerapply(col):\n",
        "    powerlist.append(list(col.values()))\n",
        "    return list(col.values())\n",
        "\n",
        "power_temp = powerfactor['data'].apply(powerapply)\n",
        "column_name = ['ITEM_NAME','ITEM_VALUE','LABEL_NAME','TIMESTAMP']\n",
        "\n",
        "power_label = pd.DataFrame.from_records(powerlist,columns = column_name)\n",
        "\n",
        "powerfactor = pd.concat([powerfactor,power_label],axis = 1)\n",
        "powerfactor.drop('data',axis = 1,inplace = True)\n",
        "\n",
        "powerfactor.rename(columns = {'LABEL_NAME' : 'TIMESTAMP','TIMESTAMP' : 'LABEL_NAME'},inplace = True)\n",
        "powerfactor\n",
        "\n",
        "# data에 dict형태로 되어있는 걸 꺼내서 column으로 추가해줌\n",
        "\n",
        "eleclist = []\n",
        "def elecapply(col):\n",
        "    eleclist.append(list(col.values()))\n",
        "    return list(col.values())\n",
        "\n",
        "elec_temp = electric['data'].apply(elecapply)\n",
        "column_name = ['ITEM_NAME','ITEM_VALUE','LABEL_NAME','TIMESTAMP']\n",
        "\n",
        "elec_label = pd.DataFrame.from_records(eleclist,columns = column_name)\n",
        "\n",
        "electric = pd.concat([electric,elec_label],axis = 1)\n",
        "electric.drop('data',axis = 1,inplace = True)\n",
        "\n",
        "electric.rename(columns = {'LABEL_NAME' : 'TIMESTAMP','TIMESTAMP' : 'LABEL_NAME'},inplace = True)\n",
        "electric\n",
        "\n",
        "# data에 dict형태로 되어있는 걸 꺼내서 column으로 추가해줌\n",
        "\n",
        "voltlist = []\n",
        "def voltapply(col):\n",
        "    voltlist.append(list(col.values()))\n",
        "    return list(col.values())\n",
        "\n",
        "volt_temp = voltage['data'].apply(voltapply)\n",
        "column_name = ['ITEM_NAME','ITEM_VALUE','LABEL_NAME','TIMESTAMP']\n",
        "\n",
        "volt_label = pd.DataFrame.from_records(voltlist,columns = column_name)\n",
        "\n",
        "voltage = pd.concat([voltage,volt_label],axis = 1)\n",
        "voltage.drop('data',axis = 1,inplace = True)\n",
        "\n",
        "voltage.rename(columns = {'LABEL_NAME' : 'TIMESTAMP','TIMESTAMP' : 'LABEL_NAME'},inplace = True)\n",
        "voltage\n",
        "\n",
        "# data에 dict형태로 되어있는 걸 꺼내서 column으로 추가해줌"
      ],
      "execution_count": null,
      "outputs": []
    },
    {
      "cell_type": "code",
      "metadata": {
        "id": "5_3I0kRFlhc6"
      },
      "source": [
        "powerfactor = powerfactor[['BASE_ITEM','ITEM_NAME', 'ITEM_VALUE', 'TIMESTAMP', 'LABEL_NAME']]\n",
        "electric = electric[['BASE_ITEM','ITEM_NAME', 'ITEM_VALUE', 'TIMESTAMP', 'LABEL_NAME']]\n",
        "voltage = voltage[['BASE_ITEM','ITEM_NAME', 'ITEM_VALUE', 'TIMESTAMP', 'LABEL_NAME']]\n",
        "\n",
        "# 일단 BASE_TIME, ITEM_NAME, ITEM_VALUE, TIMESTAMP, LABEL_NAME만 꺼내줌\n",
        "# LABEL_NAME이 타겟값임"
      ],
      "execution_count": null,
      "outputs": []
    },
    {
      "cell_type": "code",
      "metadata": {
        "id": "UGx_oSAn7Fop"
      },
      "source": [
        "powerfactor"
      ],
      "execution_count": null,
      "outputs": []
    },
    {
      "cell_type": "code",
      "metadata": {
        "id": "TTXbPas9m7ND"
      },
      "source": [
        "def second(col):\n",
        "    return col[:16]\n",
        "\n",
        "powerfactor['TIMESTAMP'] = powerfactor['TIMESTAMP'].apply(second)\n",
        "electric['TIMESTAMP'] = electric['TIMESTAMP'].apply(second)\n",
        "voltage['TIMESTAMP'] = voltage['TIMESTAMP'].apply(second)\n",
        "\n",
        "# 00:00:13에서 초를 없애줌"
      ],
      "execution_count": null,
      "outputs": []
    },
    {
      "cell_type": "code",
      "metadata": {
        "id": "C8wDB-oF42ie"
      },
      "source": [
        "powerfactor"
      ],
      "execution_count": null,
      "outputs": []
    },
    {
      "cell_type": "code",
      "metadata": {
        "id": "k2HNpL1rngCb"
      },
      "source": [
        "fig, ax = plt.subplots(3,1,figsize = (18,18))\n",
        "\n",
        "\n",
        "powerfactor['LABEL_NAME'].value_counts().plot.bar(color=['#CD7F32','#FFDF00','#D3D3D3'], ax=ax[0], rot = 0)\n",
        "ax[0].set_title('역률 평균의 경고, 정상, 주의')\n",
        "ax[0].set_ylabel('개수')\n",
        "plt.xticks(rotation = 90)\n",
        "electric['LABEL_NAME'].value_counts().plot.bar(color=['#CD7F32','#FFDF00','#D3D3D3'], ax=ax[1],rot = 0)\n",
        "ax[1].set_title('전류고조파평균의 경고, 정상, 주의')\n",
        "ax[1].set_ylabel('개수')\n",
        "voltage['LABEL_NAME'].value_counts().plot.bar(color=['#CD7F32','#FFDF00','#D3D3D3'], ax=ax[2], rot = 0)\n",
        "ax[2].set_title('전압고조파평균의 경고, 정상, 주의')\n",
        "ax[2].set_ylabel('개수')"
      ],
      "execution_count": null,
      "outputs": []
    },
    {
      "cell_type": "code",
      "metadata": {
        "id": "UuEltsqen17M"
      },
      "source": [
        "electric['LABEL_NAME'].value_counts()"
      ],
      "execution_count": null,
      "outputs": []
    },
    {
      "cell_type": "code",
      "metadata": {
        "id": "T7HuSFqCosQJ"
      },
      "source": [
        "idx = powerfactor[(powerfactor['LABEL_NAME'] != electric['LABEL_NAME']) & (powerfactor['LABEL_NAME'] != voltage['LABEL_NAME']) & (voltage['LABEL_NAME'] != electric['LABEL_NAME'])].index\n",
        "len(idx)\n",
        "\n",
        "# 역률, 전류, 전압 LABEL_NAME이 다 다른 것\n",
        "# 1 : 1 : 1"
      ],
      "execution_count": null,
      "outputs": []
    },
    {
      "cell_type": "code",
      "metadata": {
        "id": "PohDSe1qrEB8"
      },
      "source": [
        "powerfactor.loc[14315]['LABEL_NAME']"
      ],
      "execution_count": null,
      "outputs": []
    },
    {
      "cell_type": "code",
      "metadata": {
        "id": "ogwtxZrNrecs"
      },
      "source": [
        "electric.loc[14315]['LABEL_NAME']"
      ],
      "execution_count": null,
      "outputs": []
    },
    {
      "cell_type": "code",
      "metadata": {
        "id": "cPAX4GwCsR02"
      },
      "source": [
        "voltage.loc[14315]['LABEL_NAME']"
      ],
      "execution_count": null,
      "outputs": []
    },
    {
      "cell_type": "code",
      "metadata": {
        "id": "vdydNHy0sUHU"
      },
      "source": [
        "powerfactor"
      ],
      "execution_count": null,
      "outputs": []
    },
    {
      "cell_type": "code",
      "metadata": {
        "id": "wgGcCS7GIQ5P"
      },
      "source": [
        "electric"
      ],
      "execution_count": null,
      "outputs": []
    },
    {
      "cell_type": "code",
      "metadata": {
        "id": "lZQM8kTkHqi9"
      },
      "source": [
        "makecolumn = voltage['ITEM_NAME'].unique()"
      ],
      "execution_count": null,
      "outputs": []
    },
    {
      "cell_type": "code",
      "metadata": {
        "id": "neUg8DSAHyU2"
      },
      "source": [
        "data = pd.DataFrame(columns = makecolumn)"
      ],
      "execution_count": null,
      "outputs": []
    },
    {
      "cell_type": "code",
      "metadata": {
        "id": "pX_E0yokHzOy"
      },
      "source": [
        "\n",
        "data['TIMESTAMP'] = 0\n",
        "data['LABEL_NAME'] = 0"
      ],
      "execution_count": null,
      "outputs": []
    },
    {
      "cell_type": "code",
      "metadata": {
        "id": "cViXLPgdH-EZ"
      },
      "source": [
        "data"
      ],
      "execution_count": null,
      "outputs": []
    },
    {
      "cell_type": "code",
      "metadata": {
        "id": "8pVE8qihIHiS"
      },
      "source": [
        "time = electric['TIMESTAMP'].unique()"
      ],
      "execution_count": null,
      "outputs": []
    },
    {
      "cell_type": "code",
      "metadata": {
        "id": "fkM9aBvFIPSE"
      },
      "source": [
        "time"
      ],
      "execution_count": null,
      "outputs": []
    },
    {
      "cell_type": "code",
      "metadata": {
        "id": "dHYJwXHnIPtT"
      },
      "source": [
        "data['TIMESTAMP'] = time"
      ],
      "execution_count": null,
      "outputs": []
    },
    {
      "cell_type": "code",
      "metadata": {
        "id": "WzrTBYp9IWEl"
      },
      "source": [
        "data"
      ],
      "execution_count": null,
      "outputs": []
    },
    {
      "cell_type": "code",
      "metadata": {
        "id": "XUlDX2hYIXm7"
      },
      "source": [
        "datacol = voltage[voltage['TIMESTAMP'] == '2021-01-16 00:00'].sort_values(by = 'ITEM_NAME')['ITEM_NAME']\n",
        "datacol = list(datacol)\n",
        "\n",
        "datacol.append('TIMESTAMP')\n",
        "datacol.append('LABEL_NAME')\n",
        "\n",
        "data.columns = datacol\n",
        "data"
      ],
      "execution_count": null,
      "outputs": []
    },
    {
      "cell_type": "code",
      "metadata": {
        "id": "usJcblEbI853"
      },
      "source": [
        "timecols = voltage['TIMESTAMP'].unique()\n",
        "timecols\n",
        "\n",
        "\n",
        "for time, col in enumerate(timecols):\n",
        "    temp = voltage[voltage['TIMESTAMP'] == col].sort_values(by = 'ITEM_NAME')\n",
        "    temp = temp.drop_duplicates()\n",
        "    temp2 = temp['ITEM_VALUE']\n",
        "    data.iloc[time,:35] = list(temp2)\n",
        "    data.loc[time,'LABEL_NAME'] = temp['LABEL_NAME'].unique()[0]"
      ],
      "execution_count": null,
      "outputs": []
    },
    {
      "cell_type": "code",
      "metadata": {
        "id": "kaaHHiWERve7"
      },
      "source": [
        "data.to_csv('new전압평균',index = False)"
      ],
      "execution_count": null,
      "outputs": []
    },
    {
      "cell_type": "code",
      "metadata": {
        "id": "gO1xQ7hiaAqP"
      },
      "source": [
        "a = pd.read_csv('new전압평균')\n",
        "a"
      ],
      "execution_count": null,
      "outputs": []
    },
    {
      "cell_type": "code",
      "metadata": {
        "id": "aSx5yUKJaBac"
      },
      "source": [
        "a['LABEL_NAME'].value_counts()"
      ],
      "execution_count": null,
      "outputs": []
    },
    {
      "cell_type": "code",
      "metadata": {
        "id": "1n_pQuqYq5h8"
      },
      "source": [
        ""
      ],
      "execution_count": null,
      "outputs": []
    }
  ]
}
