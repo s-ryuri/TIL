{
  "nbformat": 4,
  "nbformat_minor": 0,
  "metadata": {
    "colab": {
      "name": "5장회귀.ipynb",
      "private_outputs": true,
      "provenance": [],
      "collapsed_sections": [],
      "authorship_tag": "ABX9TyM+5qflLcD7BHVm0He7+EFA",
      "include_colab_link": true
    },
    "kernelspec": {
      "name": "python3",
      "display_name": "Python 3"
    },
    "language_info": {
      "name": "python"
    }
  },
  "cells": [
    {
      "cell_type": "markdown",
      "metadata": {
        "id": "view-in-github",
        "colab_type": "text"
      },
      "source": [
        "<a href=\"https://colab.research.google.com/github/s-ryuri/TIL/blob/main/%ED%9A%8C%EA%B7%80.ipynb\" target=\"_parent\"><img src=\"https://colab.research.google.com/assets/colab-badge.svg\" alt=\"Open In Colab\"/></a>"
      ]
    },
    {
      "cell_type": "code",
      "metadata": {
        "id": "l_Wj8f0bCDh_"
      },
      "source": [
        "from google.colab import drive\n",
        "drive.mount('/content/drive')\n",
        "\n",
        "%cd drive/MyDrive/파이썬머신러닝완벽가이드"
      ],
      "execution_count": null,
      "outputs": []
    },
    {
      "cell_type": "code",
      "metadata": {
        "id": "lTVy-G4DCecG"
      },
      "source": [
        "import numpy as np\n",
        "import matplotlib.pyplot as plt\n",
        "\n",
        "\n",
        "np.random.seed(0)\n",
        "x = 2 * np.random.rand(100,1)\n",
        "y = 6 + 4 * x + np.random.randn(100,1)\n",
        "\n",
        "plt.scatter(x,y)"
      ],
      "execution_count": null,
      "outputs": []
    },
    {
      "cell_type": "code",
      "metadata": {
        "id": "3OkqNaPbKxL6"
      },
      "source": [
        "def get_cost(y,y_pred):\n",
        "    n = len(y)\n",
        "    cost = np.sum(np.square(y - y_pred)) /n\n",
        "    return cost"
      ],
      "execution_count": null,
      "outputs": []
    },
    {
      "cell_type": "code",
      "metadata": {
        "id": "_N9UpCOUOBNX"
      },
      "source": [
        "def get_weight_updates(w1,w0,x,y,learning_rate = 0.01):\n",
        "    n = len(y)\n",
        "    w1_update = np.zeros_like(w1)\n",
        "    w0_update = np.zeros_like(w0)\n",
        "    y_pred = np.dot(x,w1.T) + w0\n",
        "    diff = y - y_pred\n",
        "\n",
        "    w0_factors = np.ones((n,1))\n",
        "    w1_update = -(2/n) * learning_rate * (np.dot(x.T,diff))\n",
        "    w0_update = -(2/n) * learning_rate * (np.dot(w0_factors.T,diff))\n",
        "\n",
        "    return w1_update,w0_update"
      ],
      "execution_count": null,
      "outputs": []
    },
    {
      "cell_type": "code",
      "metadata": {
        "id": "DNSGZbixOe_G"
      },
      "source": [
        "def gradient_descent_steps(x,y,iters = 10000):\n",
        "    w0 = np.zeros((1,1))\n",
        "    w1 = np.zeros((1,1))\n",
        "\n",
        "    for ind in range(iters):\n",
        "        w1_update, w0_update = get_weight_updates(w1,w0,x,y,learning_rate=0.01)\n",
        "        w1 = w1 - w1_update\n",
        "        w0 = w0 - w0_update\n",
        "\n",
        "    return w1, w0"
      ],
      "execution_count": null,
      "outputs": []
    },
    {
      "cell_type": "code",
      "metadata": {
        "id": "c1GZujJVPwcG"
      },
      "source": [
        "w1, w0 = gradient_descent_steps(x,y,iters = 1000)\n",
        "print('w1 : {0:.3f} w0 : {1:.3f}'.format(w1[0,0],w0[0,0]))\n",
        "y_pred = w1[0,0] * x + w0\n",
        "\n",
        "print('Gradient Descent Total cost : {0:.4f}'.format(get_cost(y,y_pred)))"
      ],
      "execution_count": null,
      "outputs": []
    },
    {
      "cell_type": "code",
      "metadata": {
        "id": "rMdl-8lvQEyn"
      },
      "source": [
        "plt.scatter(x,y)\n",
        "plt.plot(x,y_pred)"
      ],
      "execution_count": null,
      "outputs": []
    },
    {
      "cell_type": "code",
      "metadata": {
        "id": "QX12LsUTXHLi"
      },
      "source": [
        "def stochastic_gradient_descent_steps(x,y,batch_size = 10,iters = 1000):\n",
        "    w0 = np.zeros((1,1))\n",
        "    w1 = np.zeros((1,1))\n",
        "    prev_cost = 100000\n",
        "    iter_index = 0\n",
        "\n",
        "    for ind in range(iters):\n",
        "        np.random.seed(ind)\n",
        "        stochastic_random_index = np.random.permutation(x.shape[0])\n",
        "        sample_x = x[stochastic_random_index[0:batch_size]]\n",
        "        sample_y = y[stochastic_random_index[0:batch_size]]\n",
        "\n",
        "        w1_update,w0_update = get_weight_updates(w1,w0,sample_x,sample_y,learning_rate=0.01)\n",
        "        w1 = w1-w1_update\n",
        "        w0 = w0 - w0_update\n",
        "\n",
        "    return w1, w0\n",
        "\n",
        "\n",
        "w1,w0 = stochastic_gradient_descent_steps(x,y,iters = 1000)\n",
        "print('w1 : ',round(w1[0,0],3),'w0:',round(w0[0,0],3))\n",
        "y_pred = w1[0,0] * x + w0\n",
        "\n",
        "print(get_cost(y,y_pred))"
      ],
      "execution_count": null,
      "outputs": []
    },
    {
      "cell_type": "code",
      "metadata": {
        "id": "Li9LWiBGYCxq"
      },
      "source": [
        "import numpy as np\n",
        "import matplotlib.pyplot as plt\n",
        "import pandas as pd\n",
        "import seaborn as sns\n",
        "from scipy import stats\n",
        "from sklearn.datasets import load_boston\n",
        "\n",
        "boston = load_boston()\n",
        "\n",
        "bostonDF = pd.DataFrame(boston.data,columns = boston.feature_names)\n",
        "\n",
        "bostonDF['PRICE'] = boston.target\n",
        "print('Boston 데이터 세트 크기 : ',bostonDF.shape)\n",
        "bostonDF.head()"
      ],
      "execution_count": null,
      "outputs": []
    },
    {
      "cell_type": "code",
      "metadata": {
        "id": "KY8eTdGWqPKy"
      },
      "source": [
        "bostonDF.info()"
      ],
      "execution_count": null,
      "outputs": []
    },
    {
      "cell_type": "code",
      "metadata": {
        "id": "5pGhHW1GqTJ6"
      },
      "source": [
        "fig ,ax = plt.subplots(figsize = (16,8),ncols = 4,nrows = 2)\n",
        "lm_features = ['RM','ZN','INDUS','NOX','AGE','PTRATIO','LSTAT','RAD']\n",
        "for i, feature in enumerate(lm_features):\n",
        "    row = int(i / 4)\n",
        "    col = i % 4\n",
        "    sns.regplot(x = feature,y = 'PRICE',data = bostonDF,ax = ax[row][col])"
      ],
      "execution_count": null,
      "outputs": []
    },
    {
      "cell_type": "code",
      "metadata": {
        "id": "j7qoqcyrrQxx"
      },
      "source": [
        "from sklearn.model_selection import train_test_split\n",
        "from sklearn.linear_model import LinearRegression\n",
        "from sklearn.metrics import mean_squared_error,r2_score\n",
        "\n",
        "y_target = bostonDF['PRICE']\n",
        "x_data = bostonDF.drop(['PRICE'],axis = 1)\n",
        "\n",
        "# x_train,x_test,y_train,y_test = train_test_split(x_data,y_target,test_size = 0.3,random_state = 156)\n",
        "\n",
        "# lr = LinearRegression()\n",
        "# lr.fit(x_train,y_train)\n",
        "# y_preds = lr.predict(x_test)\n",
        "# mse = mean_squared_error(y_test,y_preds)\n",
        "# rmse = np.sqrt(mse)\n",
        "\n",
        "# print('MSE : {0:.3f}, RMSE : {1:.3F}'.format(mse,rmse))\n",
        "# print('Variance score : {0:.3f}'.format(r2_score(y_test,y_preds)))"
      ],
      "execution_count": null,
      "outputs": []
    },
    {
      "cell_type": "code",
      "metadata": {
        "id": "Awfa54Kpgzr8"
      },
      "source": [
        "from sklearn.linear_model import Ridge\n",
        "from sklearn.model_selection import cross_val_score\n",
        "\n",
        "ridge = Ridge(alpha = 10)\n",
        "neg_mse_scores = cross_val_score(ridge,x_data,y_target,scoring = 'neg_mean_squared_error',cv = 5)\n",
        "rmse_scores = np.sqrt(-1 * neg_mse_scores)\n",
        "avg_rmse = np.mean(rmse_scores)"
      ],
      "execution_count": null,
      "outputs": []
    },
    {
      "cell_type": "code",
      "metadata": {
        "id": "suNdvF1rhXe4"
      },
      "source": [
        "print(np.round(neg_mse_scores,3))\n",
        "print(np.round(rmse_scores,3))\n",
        "print(avg_rmse)"
      ],
      "execution_count": null,
      "outputs": []
    },
    {
      "cell_type": "code",
      "metadata": {
        "id": "-5BFav02hX0J"
      },
      "source": [
        "alphas  = [0,0.1,1,10,100]\n",
        "\n",
        "for alpha in alphas :\n",
        "    ridge = Ridge(alpha = alpha)\n",
        "    neg_mse_scores = cross_val_score(ridge,x_data,y_target,scoring = 'neg_mean_squared_error',cv = 5)\n",
        "    avg_rmse = np.mean(np.sqrt(-1*neg_mse_scores))\n",
        "    print('alpha {0} 일 때 5 folds 의 평균 RMSE : {1:.3f}'.format(alpha,avg_rmse))"
      ],
      "execution_count": null,
      "outputs": []
    },
    {
      "cell_type": "code",
      "metadata": {
        "id": "a9qiQp27hYDX"
      },
      "source": [
        "fig,ax = plt.subplots(1,5,figsize = (18,6))\n",
        "\n",
        "coeff_df = pd.DataFrame()\n",
        "\n",
        "for pos,alpha in enumerate(alphas):\n",
        "    ridge = Ridge(alpha = alpha)\n",
        "    ridge.fit(x_data,y_target)\n",
        "\n",
        "    coeff = pd.Series(data = ridge.coef_,index = x_data.columns)\n",
        "    colname = 'alpha:' + str(alpha)\n",
        "    coeff_df[colname] = coeff\n",
        "    coeff = coeff.sort_values(ascending = False)\n",
        "    ax[pos].set_title(colname)\n",
        "    ax[pos].set_xlim(-3,6)\n",
        "    sns.barplot(x = coeff.values,y = coeff.index,ax = ax[pos])\n",
        "\n",
        "plt.show()"
      ],
      "execution_count": null,
      "outputs": []
    },
    {
      "cell_type": "code",
      "metadata": {
        "id": "V6R27p4xhYPx"
      },
      "source": [
        ""
      ],
      "execution_count": null,
      "outputs": []
    },
    {
      "cell_type": "code",
      "metadata": {
        "id": "nxT-SaSphYa4"
      },
      "source": [
        ""
      ],
      "execution_count": null,
      "outputs": []
    },
    {
      "cell_type": "code",
      "metadata": {
        "id": "bG76O82qhYoR"
      },
      "source": [
        ""
      ],
      "execution_count": null,
      "outputs": []
    },
    {
      "cell_type": "code",
      "metadata": {
        "id": "9RLHz_30sefS"
      },
      "source": [
        "print('절편 값 :',lr.intercept_)\n",
        "print('회귀 계수값 : ',np.round(lr.coef_,1))"
      ],
      "execution_count": null,
      "outputs": []
    },
    {
      "cell_type": "code",
      "metadata": {
        "id": "QQuSPTENtlJN"
      },
      "source": [
        "coeff =pd.Series(data = np.round(lr.coef_,1),index = x_data.columns)\n",
        "coeff.sort_values(ascending = False)"
      ],
      "execution_count": null,
      "outputs": []
    },
    {
      "cell_type": "code",
      "metadata": {
        "id": "1fBrPnVBt5hY"
      },
      "source": [
        "from sklearn.model_selection import cross_val_score\n",
        "\n",
        "neg_mse_scores = cross_val_score(lr,x_data,y_target,scoring = 'neg_mean_squared_error',cv = 5)\n",
        "rmse_scores = np.sqrt(-1 * neg_mse_scores)\n",
        "avg_rmse = np.mean(rmse_scores)\n",
        "\n",
        "print(' 5 folds의 개별 Negative MSE scores : ',np.round(neg_mse_scores,2))\n",
        "print(' 5 folds의 개별 RMSE scores : ',np.round(rmse_scores,2))\n",
        "print(' 5 folds의 개별 RMSE :  ', np.round(avg_rmse,2)) "
      ],
      "execution_count": null,
      "outputs": []
    },
    {
      "cell_type": "code",
      "metadata": {
        "id": "vFNrTEg3uxk7"
      },
      "source": [
        "from sklearn.preprocessing import PolynomialFeatures\n",
        "import numpy as np\n",
        "\n",
        "x = np.arange(4).reshape(2,2)\n",
        "print('일차 단항식 계수 피처 : \\n',x)\n",
        "poly = PolynomialFeatures(degree = 2)\n",
        "poly.fit(x)\n",
        "poly_ftr = poly.transform(x)\n",
        "print('변환된 2차 다항식 계수 피처 : \\n',poly_ftr)"
      ],
      "execution_count": null,
      "outputs": []
    },
    {
      "cell_type": "code",
      "metadata": {
        "id": "pRd1JlLn8btc"
      },
      "source": [
        "def polynomial_func(x):\n",
        "    y = 1 + 2*x[:,0] + 3 * x[:,0] ** 2 + 4*x[:,1]**3\n",
        "    return y\n",
        "\n",
        "x = np.arange(4).reshape(2,2)\n",
        "print('일차 단항식 계수 feature : \\n',x)\n",
        "y = polynomial_func(x)\n",
        "print('삼차 다항식 결정값 : \\n',y)"
      ],
      "execution_count": null,
      "outputs": []
    },
    {
      "cell_type": "code",
      "metadata": {
        "id": "9zYdTRRP9h8-"
      },
      "source": [
        "2*x[:,0] + 3 * x[:,0] ** 2 + 4*x[:,1]**3 + 1"
      ],
      "execution_count": null,
      "outputs": []
    },
    {
      "cell_type": "code",
      "metadata": {
        "id": "yTBgl61c9rU4"
      },
      "source": [
        ""
      ],
      "execution_count": null,
      "outputs": []
    }
  ]
}