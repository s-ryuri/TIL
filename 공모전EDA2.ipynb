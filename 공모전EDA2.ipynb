{
  "nbformat": 4,
  "nbformat_minor": 0,
  "metadata": {
    "colab": {
      "name": "9월16일2번째.ipynb",
      "private_outputs": true,
      "provenance": [],
      "collapsed_sections": [],
      "machine_shape": "hm",
      "authorship_tag": "ABX9TyNsSSS9jwuVH3r2q0uPlx/Y",
      "include_colab_link": true
    },
    "kernelspec": {
      "name": "python3",
      "display_name": "Python 3"
    },
    "language_info": {
      "name": "python"
    }
  },
  "cells": [
    {
      "cell_type": "markdown",
      "metadata": {
        "id": "view-in-github",
        "colab_type": "text"
      },
      "source": [
        "<a href=\"https://colab.research.google.com/github/s-ryuri/TIL/blob/main/%EA%B3%B5%EB%AA%A8%EC%A0%84EDA2.ipynb\" target=\"_parent\"><img src=\"https://colab.research.google.com/assets/colab-badge.svg\" alt=\"Open In Colab\"/></a>"
      ]
    },
    {
      "cell_type": "code",
      "metadata": {
        "id": "1bspUCa5B9yj"
      },
      "source": [
        "from google.colab import drive\n",
        "drive.mount('/content/drive')\n",
        "\n",
        "%cd drive/MyDrive/Colab/9월16일\n",
        "\n",
        "import pandas as pd\n",
        "import numpy as np\n",
        "import seaborn as sns\n",
        "import missingno as msno\n",
        "import matplotlib\n",
        "import matplotlib.pyplot as plt\n",
        "import matplotlib.font_manager as fm\n",
        "import os\n",
        "import warnings\n",
        "#ignore warnings\n",
        "\n",
        "warnings.filterwarnings('ignore')\n",
        "plt.style.use('seaborn')\n",
        "\n",
        "plt.rc('font', family='NanumBarunGothic') \n",
        "def change_matplotlib_font(font_download_url):\n",
        "    FONT_PATH = 'MY_FONT'\n",
        "    \n",
        "    font_download_cmd = f\"wget {font_download_url} -O {FONT_PATH}.zip\"\n",
        "    unzip_cmd = f\"unzip -o {FONT_PATH}.zip -d {FONT_PATH}\"\n",
        "    os.system(font_download_cmd)\n",
        "    os.system(unzip_cmd)\n",
        "    \n",
        "    font_files = fm.findSystemFonts(fontpaths=FONT_PATH)\n",
        "    for font_file in font_files:\n",
        "        fm.fontManager.addfont(font_file)\n",
        "\n",
        "    font_name = fm.FontProperties(fname=font_files[0]).get_name()\n",
        "    matplotlib.rc('font', family=font_name)\n",
        "    print(\"font family: \", plt.rcParams['font.family'])\n",
        "\n",
        "font_download_url = \"https://fonts.google.com/download?family=Noto%20Sans%20KR\"\n",
        "change_matplotlib_font(font_download_url)"
      ],
      "execution_count": null,
      "outputs": []
    },
    {
      "cell_type": "code",
      "metadata": {
        "id": "62ZbD15XDd-F"
      },
      "source": [
        "powerfactor = pd.read_csv('new역률평균')\n",
        "electric = pd.read_csv('new전류평균')\n",
        "voltage = pd.read_csv('new전압평균')"
      ],
      "execution_count": null,
      "outputs": []
    },
    {
      "cell_type": "markdown",
      "metadata": {
        "id": "Ut63HJP0ErC4"
      },
      "source": [
        "일단 평균을 다 뺌 진짜 평균이기 때문에 이미 다른 값들이 다 있기 때문에 평균을 뺌"
      ]
    },
    {
      "cell_type": "code",
      "metadata": {
        "id": "AWArkJoZEkb8"
      },
      "source": [
        "powerfactor.drop(['무효전력평균','상전압평균','선간전압평균','역률평균','유효전력평균','전류고조파평균','전류평균','전압고조파평균'],axis = 1,inplace = True)\n",
        "electric.drop(['무효전력평균','상전압평균','선간전압평균','역률평균','유효전력평균','전류고조파평균','전류평균','전압고조파평균'],axis = 1,inplace = True)\n",
        "voltage.drop(['무효전력평균','상전압평균','선간전압평균','역률평균','유효전력평균','전류고조파평균','전류평균','전압고조파평균'],axis = 1,inplace = True)"
      ],
      "execution_count": null,
      "outputs": []
    },
    {
      "cell_type": "code",
      "metadata": {
        "id": "jFP0cAaFHnnE"
      },
      "source": [
        "powerfactor.rename(columns = {'LABEL_NAME':'POWER_LABEL'},inplace = True)\n",
        "electric.rename(columns = {'LABEL_NAME':'ELECTRIC_LABEL'},inplace = True)\n",
        "voltage.rename(columns = {'LABEL_NAME':'VOLTAGE_LABEL'},inplace = True)"
      ],
      "execution_count": null,
      "outputs": []
    },
    {
      "cell_type": "code",
      "metadata": {
        "id": "MEXuGJEPIk3G"
      },
      "source": [
        "data = pd.concat([powerfactor,electric[['ELECTRIC_LABEL']],voltage[['VOLTAGE_LABEL']]],axis = 1)"
      ],
      "execution_count": null,
      "outputs": []
    },
    {
      "cell_type": "code",
      "metadata": {
        "id": "WSG1lk9LIm73"
      },
      "source": [
        "# data.to_csv('9월16일LABEL합친데이터')"
      ],
      "execution_count": null,
      "outputs": []
    },
    {
      "cell_type": "code",
      "metadata": {
        "id": "PkAX5hv_JZSd"
      },
      "source": [
        "data['FINAL_LABEL'] = 0\n",
        "data"
      ],
      "execution_count": null,
      "outputs": []
    },
    {
      "cell_type": "markdown",
      "metadata": {
        "id": "X1HjUVIrJwkY"
      },
      "source": [
        "일단 이 데이터는 레이블을 다 합친 데이터\n"
      ]
    },
    {
      "cell_type": "code",
      "metadata": {
        "id": "RrpClHrUJu_U"
      },
      "source": [
        "# 다 같은거 뽑고\n",
        "same_label = data[(data['POWER_LABEL'] == data['ELECTRIC_LABEL']) &(data['POWER_LABEL'] == data['VOLTAGE_LABEL'])]\n",
        "same_label['FINAL_LABEL'] = same_label['POWER_LABEL']\n",
        "same_label.drop(['POWER_LABEL','ELECTRIC_LABEL','VOLTAGE_LABEL'],axis = 1,inplace = True)"
      ],
      "execution_count": null,
      "outputs": []
    },
    {
      "cell_type": "code",
      "metadata": {
        "id": "97UmIW0fLgw1"
      },
      "source": [
        "same_label_index = list(same_label.index)\n",
        "same_label_index\n",
        "same_label = same_label.reset_index(drop= True)"
      ],
      "execution_count": null,
      "outputs": []
    },
    {
      "cell_type": "code",
      "metadata": {
        "id": "Q-leKGLBJ1MZ"
      },
      "source": [
        "# 1 : 1 : 1 뽑는다\n",
        "all_diff_label = data[(data['POWER_LABEL'] != data['ELECTRIC_LABEL']) &(data['POWER_LABEL'] != data['VOLTAGE_LABEL']) &(data['ELECTRIC_LABEL'] != data['VOLTAGE_LABEL'])]\n",
        "all_diff_label_index = list(all_diff_label.index)\n",
        "all_diff_label_index\n",
        "all_diff_label = all_diff_label.reset_index(drop= True)"
      ],
      "execution_count": null,
      "outputs": []
    },
    {
      "cell_type": "code",
      "metadata": {
        "id": "iKo09noLJ1oy"
      },
      "source": [
        "# 2 : 1 뽑는다\n",
        "# 1 : 1 : 1, 다 같은 데이터를 빼줘서 2대 1을 얻음\n",
        "\n",
        "total_index = same_label_index + all_diff_label_index\n",
        "\n",
        "two_one_label = data.drop(total_index,axis = 0)\n",
        "\n",
        "two_one_label= two_one_label.reset_index(drop=True)"
      ],
      "execution_count": null,
      "outputs": []
    },
    {
      "cell_type": "code",
      "metadata": {
        "id": "xW17fdo6OOXM"
      },
      "source": [
        "two_one_label[['POWER_LABEL','ELECTRIC_LABEL','VOLTAGE_LABEL']]"
      ],
      "execution_count": null,
      "outputs": []
    },
    {
      "cell_type": "code",
      "metadata": {
        "id": "tn7rrI4DQNAh"
      },
      "source": [
        "two_dict = {}\n",
        "idx = 0\n",
        "for one,two,three in zip(two_one_label['POWER_LABEL'],two_one_label['ELECTRIC_LABEL'],two_one_label['VOLTAGE_LABEL']):\n",
        "    two_dict = {'경고' : 0, '정상' : 0, '주의' : 0}\n",
        "    two_dict[one] += 1\n",
        "    two_dict[two] += 1\n",
        "    two_dict[three] += 1\n",
        "    if two_dict['경고'] == 2:\n",
        "        two_one_label.loc[idx,'FINAL_LABEL'] = '경고'\n",
        "    elif two_dict['정상'] == 2:\n",
        "        two_one_label.loc[idx,'FINAL_LABEL'] = '정상'\n",
        "    elif two_dict['주의'] == 2:\n",
        "        two_one_label.loc[idx,'FINAL_LABEL'] = '주의'\n",
        "    idx += 1\n",
        "two_one_label\n",
        "\n",
        "# 2대1인 데이터에서 2를 뽑는 for 문"
      ],
      "execution_count": null,
      "outputs": []
    },
    {
      "cell_type": "code",
      "metadata": {
        "id": "n3RfC2Oyto2N"
      },
      "source": [
        "two_one_label[['POWER_LABEL','ELECTRIC_LABEL','VOLTAGE_LABEL','FINAL_LABEL']]\n",
        "\n",
        "elec_count = two_one_label[two_one_label['ELECTRIC_LABEL'] == two_one_label['FINAL_LABEL']].shape[0]\n",
        "volt_count = two_one_label[two_one_label['VOLTAGE_LABEL'] == two_one_label['FINAL_LABEL']].shape[0]\n",
        "power_count= two_one_label[two_one_label['POWER_LABEL'] == two_one_label['FINAL_LABEL']].shape[0]"
      ],
      "execution_count": null,
      "outputs": []
    },
    {
      "cell_type": "code",
      "metadata": {
        "id": "WBKbdPMOuFcB"
      },
      "source": [
        "print(elec_count,volt_count,power_count)"
      ],
      "execution_count": null,
      "outputs": []
    },
    {
      "cell_type": "code",
      "metadata": {
        "id": "DZTvlRk-YOov"
      },
      "source": [
        "two_one_label.drop(['POWER_LABEL','ELECTRIC_LABEL','VOLTAGE_LABEL'],axis = 1,inplace = True)\n",
        "two_one_label"
      ],
      "execution_count": null,
      "outputs": []
    },
    {
      "cell_type": "code",
      "metadata": {
        "id": "mx5D5-JIYiDW"
      },
      "source": [
        "model_data = pd.concat([same_label,two_one_label])\n",
        "model_data"
      ],
      "execution_count": null,
      "outputs": []
    },
    {
      "cell_type": "code",
      "metadata": {
        "id": "Q9jzWeFrYj12"
      },
      "source": [
        ""
      ],
      "execution_count": null,
      "outputs": []
    },
    {
      "cell_type": "code",
      "metadata": {
        "id": "Mpe_gAczfciC"
      },
      "source": [
        "model_data = model_data.sort_values(by = 'TIMESTAMP')"
      ],
      "execution_count": null,
      "outputs": []
    },
    {
      "cell_type": "code",
      "metadata": {
        "id": "XgLYZaTJfnsd"
      },
      "source": [
        "model_data.to_csv('9월16일model만들때이거써라@@',index = False)"
      ],
      "execution_count": null,
      "outputs": []
    },
    {
      "cell_type": "code",
      "metadata": {
        "id": "UfyWs0zqfqNY"
      },
      "source": [
        "model_data = pd.read_csv('9월16일model만들때이거써라@@')"
      ],
      "execution_count": null,
      "outputs": []
    },
    {
      "cell_type": "code",
      "metadata": {
        "id": "r0JcBLPGggFp"
      },
      "source": [
        "all_diff_label = all_diff_label.sort_values(by = 'TIMESTAMP')"
      ],
      "execution_count": null,
      "outputs": []
    },
    {
      "cell_type": "code",
      "metadata": {
        "id": "lXl4Z1w7g_p5"
      },
      "source": [
        "all_diff_label"
      ],
      "execution_count": null,
      "outputs": []
    },
    {
      "cell_type": "code",
      "metadata": {
        "id": "lCNiJbcBiTy4"
      },
      "source": [
        ""
      ],
      "execution_count": null,
      "outputs": []
    },
    {
      "cell_type": "code",
      "metadata": {
        "id": "s90YwdCwvCTS"
      },
      "source": [
        ""
      ],
      "execution_count": null,
      "outputs": []
    },
    {
      "cell_type": "code",
      "metadata": {
        "id": "GZScdG1BhSeJ"
      },
      "source": [
        "from sklearn.ensemble import RandomForestClassifier\n",
        "from sklearn.model_selection import train_test_split\n",
        "from sklearn.model_selection import cross_val_score\n",
        "from sklearn.preprocessing import LabelEncoder\n",
        "\n",
        "encoder = LabelEncoder()\n",
        "model_data['FINAL_LABEL'] = encoder.fit_transform(model_data['FINAL_LABEL'])\n"
      ],
      "execution_count": null,
      "outputs": []
    },
    {
      "cell_type": "code",
      "metadata": {
        "id": "XgPAZ_6tm1rP"
      },
      "source": [
        "encoder.classes_"
      ],
      "execution_count": null,
      "outputs": []
    },
    {
      "cell_type": "markdown",
      "metadata": {
        "id": "j49jy26xnIWu"
      },
      "source": [
        "0이 경고, 1이 정상, 2가 주의"
      ]
    },
    {
      "cell_type": "code",
      "metadata": {
        "id": "0XVaJjHWicYj"
      },
      "source": [
        "y_data = model_data['FINAL_LABEL']\n",
        "x_data = model_data.drop(['FINAL_LABEL','TIMESTAMP'],axis = 1)"
      ],
      "execution_count": null,
      "outputs": []
    },
    {
      "cell_type": "code",
      "metadata": {
        "id": "plEGUnJSk5bn"
      },
      "source": [
        "y_data"
      ],
      "execution_count": null,
      "outputs": []
    },
    {
      "cell_type": "code",
      "metadata": {
        "id": "Iwv2Dd7iimOX"
      },
      "source": [
        "from sklearn.metrics import accuracy_score\n",
        "\n",
        "x_train,x_test,y_train,y_test = train_test_split(x_data,y_data,shuffle = False,random_state = 0)\n",
        "model = RandomForestClassifier(n_estimators=500)\n",
        "model.fit(x_train,y_train)\n",
        "prediction = model.predict(x_test)\n",
        "\n",
        "print('정확도 : ',accuracy_score(prediction,y_test))"
      ],
      "execution_count": null,
      "outputs": []
    },
    {
      "cell_type": "code",
      "metadata": {
        "id": "PadjCQdsl6oM"
      },
      "source": [
        "final_x_data=all_diff_label.drop(['TIMESTAMP','POWER_LABEL','ELECTRIC_LABEL','VOLTAGE_LABEL','FINAL_LABEL'],axis = 1)"
      ],
      "execution_count": null,
      "outputs": []
    },
    {
      "cell_type": "code",
      "metadata": {
        "id": "on6c7QWBi6aZ"
      },
      "source": [
        "model2 = RandomForestClassifier(n_estimators=500)\n",
        "model2.fit(x_data,y_data)\n",
        "prediction2 = model2.predict(final_x_data)\n"
      ],
      "execution_count": null,
      "outputs": []
    },
    {
      "cell_type": "code",
      "metadata": {
        "id": "WR3x_um4lMax"
      },
      "source": [
        "prediction2\n",
        "# 2가 뭐고 1"
      ],
      "execution_count": null,
      "outputs": []
    },
    {
      "cell_type": "code",
      "metadata": {
        "id": "7J7T54B4mhMf"
      },
      "source": [
        "final_x_data"
      ],
      "execution_count": null,
      "outputs": []
    },
    {
      "cell_type": "code",
      "metadata": {
        "id": "fhp8I9cpn5Cg"
      },
      "source": [
        "all_diff_label['FINAL_LABEL'] = prediction2"
      ],
      "execution_count": null,
      "outputs": []
    },
    {
      "cell_type": "code",
      "metadata": {
        "id": "A70COLZooswY"
      },
      "source": [
        "all_diff_label"
      ],
      "execution_count": null,
      "outputs": []
    },
    {
      "cell_type": "code",
      "metadata": {
        "id": "fPu2yWAFpAIL"
      },
      "source": [
        "label_dict = {0:'경고',1:'정상',2:'주의'}\n",
        "all_diff_label['FINAL_LABEL'] = all_diff_label['FINAL_LABEL'].map(label_dict)"
      ],
      "execution_count": null,
      "outputs": []
    },
    {
      "cell_type": "markdown",
      "metadata": {
        "id": "CLC5bJQapUfT"
      },
      "source": [
        "0이 경고, 1이 정상, 2가 주의"
      ]
    },
    {
      "cell_type": "code",
      "metadata": {
        "id": "cp5zNxi1peiM"
      },
      "source": [
        "all_diff_label"
      ],
      "execution_count": null,
      "outputs": []
    },
    {
      "cell_type": "code",
      "metadata": {
        "id": "eUMTv-_zpfZ_"
      },
      "source": [
        "all_diff_label.to_csv('다다른레이블한개로예측한파일',index=False)"
      ],
      "execution_count": null,
      "outputs": []
    },
    {
      "cell_type": "code",
      "metadata": {
        "id": "qhF6MmLHpqho"
      },
      "source": [
        "all_diff_label"
      ],
      "execution_count": null,
      "outputs": []
    },
    {
      "cell_type": "code",
      "metadata": {
        "id": "H3_h6XntpyLL"
      },
      "source": [
        "elec_count += all_diff_label[all_diff_label['ELECTRIC_LABEL'] == all_diff_label['FINAL_LABEL']].shape[0]\n",
        "volt_count += all_diff_label[all_diff_label['VOLTAGE_LABEL'] == all_diff_label['FINAL_LABEL']].shape[0]\n",
        "power_count+= all_diff_label[all_diff_label['POWER_LABEL'] == all_diff_label['FINAL_LABEL']].shape[0]\n",
        "\n",
        "print(elec_count,volt_count,power_count)"
      ],
      "execution_count": null,
      "outputs": []
    },
    {
      "cell_type": "markdown",
      "metadata": {
        "id": "5Hzf7bZCvd7x"
      },
      "source": [
        "electric이 22169개\n",
        "voltage 21146개\n",
        "powerfactor가 986개\n"
      ]
    },
    {
      "cell_type": "code",
      "metadata": {
        "id": "m9ARgAq8vb1F"
      },
      "source": [
        "sum = elec_count + volt_count + power_count\n",
        "\n",
        "print(f'전류고조파 비율 : {elec_count / sum * 100 :.2f} 전압고조파 비율 : {volt_count / sum * 100:.2f} 역률 비율 : {power_count / sum * 100:.2f}')"
      ],
      "execution_count": null,
      "outputs": []
    },
    {
      "cell_type": "code",
      "metadata": {
        "id": "GQ_wACVnwdtr"
      },
      "source": [
        "elec_count / sum"
      ],
      "execution_count": null,
      "outputs": []
    },
    {
      "cell_type": "code",
      "metadata": {
        "id": "RfZusKmCwjDk"
      },
      "source": [
        ""
      ],
      "execution_count": null,
      "outputs": []
    }
  ]
}